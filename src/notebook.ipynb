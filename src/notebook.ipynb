{
 "cells": [
  {
   "cell_type": "code",
   "execution_count": 2,
   "metadata": {},
   "outputs": [
    {
     "ename": "",
     "evalue": "",
     "output_type": "error",
     "traceback": [
      "\u001b[1;31mThe Kernel crashed while executing code in the current cell or a previous cell. \n",
      "\u001b[1;31mPlease review the code in the cell(s) to identify a possible cause of the failure. \n",
      "\u001b[1;31mClick <a href='https://aka.ms/vscodeJupyterKernelCrash'>here</a> for more info. \n",
      "\u001b[1;31mView Jupyter <a href='command:jupyter.viewOutput'>log</a> for further details."
     ]
    }
   ],
   "source": [
    "from time import sleep\n",
    "from pathlib import Path\n",
    "import chess\n",
    "import chess.engine\n",
    "from chessboard import display\n",
    "import chess.svg\n",
    "import engine\n",
    "\n",
    "def main():\n",
    "\tengine_path = str(Path.cwd() / \"dist\" / \"engine\" / \"engine.exe\")\n",
    "\tengine = chess.engine.SimpleEngine.popen_uci(engine_path)\n",
    "\n",
    "\tboard = chess.Board()\n",
    "\t# board_viz = display.start(board.fen())\n",
    "\twhile not board.is_game_over():\n",
    "\t\tsleep(0.5)\n",
    "\t\tresult = engine.play(board, chess.engine.Limit(time=30))\n",
    "\t\tboard.push(result.move)\n",
    "\t\t# display.update(board.fen(), board_viz)\n",
    "\t\t# chess.svg.board(board, size=350)\n",
    "\t# display.terminate()\n",
    "\tengine.quit()\n",
    "\n",
    "if __name__ == \"__main__\":\n",
    "\tmain()\n"
   ]
  }
 ],
 "metadata": {
  "kernelspec": {
   "display_name": "Python 3",
   "language": "python",
   "name": "python3"
  },
  "language_info": {
   "codemirror_mode": {
    "name": "ipython",
    "version": 3
   },
   "file_extension": ".py",
   "mimetype": "text/x-python",
   "name": "python",
   "nbconvert_exporter": "python",
   "pygments_lexer": "ipython3",
   "version": "3.12.3"
  }
 },
 "nbformat": 4,
 "nbformat_minor": 2
}
